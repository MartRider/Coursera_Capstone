{
 "cells": [
  {
   "cell_type": "markdown",
   "metadata": {},
   "source": [
    "As a part of final project I have chosen to explore restaurant in the Bangkok, Thailand.\n",
    "\n",
    "Introduction\n",
    "\n",
    "Thailand is one of a very famous country that has very interesting food. Since Bangkok is one of the most prosper city in Thailand and has very interesting place to visit such as Chatuchak Market, Chinatown and Siam Paragon which very interesting restaurant I'd like to observe the restaurant in Bangkok, because the food in Thailand is very delicious in both Thai food and internation food from every culture. I'm Thai people but still did not try most restaurant much, I'd like to know which restaurant in Thailand is the most popular restaurant in Thailand. And what kind of food is the most famous in Thailand.\n",
    "\n",
    "Business Problem\n",
    "\n",
    "1. What is the most 10 visited restaurant in Thailand?\n",
    "2. Which type of food is the most popular in Thailand?\n",
    "3. Top 5 visited restaurant in each type of food\n"
   ]
  }
 ],
 "metadata": {
  "kernelspec": {
   "display_name": "Python 3",
   "language": "python",
   "name": "python3"
  },
  "language_info": {
   "codemirror_mode": {
    "name": "ipython",
    "version": 3
   },
   "file_extension": ".py",
   "mimetype": "text/x-python",
   "name": "python",
   "nbconvert_exporter": "python",
   "pygments_lexer": "ipython3",
   "version": "3.7.3"
  }
 },
 "nbformat": 4,
 "nbformat_minor": 2
}
